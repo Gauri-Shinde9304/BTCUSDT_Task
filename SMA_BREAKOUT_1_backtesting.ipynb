{
 "cells": [
  {
   "cell_type": "code",
   "execution_count": 1,
   "id": "700cb2be",
   "metadata": {},
   "outputs": [],
   "source": [
    "# Impor the necessary libraries\n",
    "\n",
    "import pandas as pd \n",
    "import numpy as np\n",
    "import datetime"
   ]
  },
  {
   "cell_type": "code",
   "execution_count": 2,
   "id": "177f18b5",
   "metadata": {},
   "outputs": [],
   "source": [
    "def calculate_indicators(df):\n",
    "\n",
    "    df = df.copy()\n",
    "    \n",
    "    df['sma_5'] = df['close'].rolling(window=5).mean()\n",
    "\n",
    "    df['sma_10'] = df['close'].rolling(window=10).mean()\n",
    "\n",
    "    df['sma_cross'] = (df['sma_5'].shift(1) <= df['sma_10'].shift(1)) & (df['sma_5'] > df['sma_10'])\n",
    "\n",
    "    return df"
   ]
  },
  {
   "cell_type": "code",
   "execution_count": 3,
   "id": "ba229647",
   "metadata": {},
   "outputs": [],
   "source": [
    "def strategy_implementation(df, tp, sl):\n",
    "    df = calculate_indicators(df)\n",
    "    trades = []\n",
    "    active_trades = []\n",
    "    \n",
    "    for i in range(10, len(df)):\n",
    "        row = df.iloc[i]\n",
    "        \n",
    "        # Exit logic\n",
    "        exited_trades = []\n",
    "        for trade in active_trades:\n",
    "            if row['high'] >= trade['sl']:\n",
    "                trade.update({\n",
    "                    'exit_time': row['timestamp'],\n",
    "                    'exit_reason': 'SL hit',\n",
    "                    'exit_price': trade['sl'],\n",
    "                    'pnl': trade['entry_price'] - trade['sl']\n",
    "                })\n",
    "                trades.append(trade)\n",
    "                exited_trades.append(trade)\n",
    "            elif row['low'] <= trade['tp']:\n",
    "                trade.update({\n",
    "                    'exit_time': row['timestamp'],\n",
    "                    'exit_reason': 'TP hit',\n",
    "                    'exit_price': trade['tp'],\n",
    "                    'pnl': trade['entry_price'] - trade['tp']\n",
    "                })\n",
    "                trades.append(trade)\n",
    "                exited_trades.append(trade)\n",
    "        \n",
    "        active_trades = [t for t in active_trades if t not in exited_trades]\n",
    "        \n",
    "        # Entry logic\n",
    "        if row['sma_cross']:\n",
    "            entry_price = row['close']\n",
    "            active_trades.append({\n",
    "                'entry_time': row['timestamp'],\n",
    "                'position': 'short',\n",
    "                'entry_price': entry_price,\n",
    "                'sl': entry_price * (1 + sl),\n",
    "                'tp': entry_price * (1 - tp)\n",
    "            })\n",
    "    \n",
    "    df_trades = pd.DataFrame(trades)\n",
    "    \n",
    "    if df_trades.empty:\n",
    "        return df_trades, {\n",
    "            'total_trades': 0, 'win_rate': 0, 'avg_pnl': 0,\n",
    "            'risk_reward_ratio': np.nan, 'max_drawdown': 0, 'avg_trade_per_day': 0\n",
    "        }\n",
    "    \n",
    "    df_trades['wins'] = (df_trades['pnl'] > 0).astype(int)\n",
    "    df_trades['cumulative_pnl'] = df_trades['pnl'].cumsum()\n",
    "    initial_capital = df_trades['entry_price'].iloc[0]\n",
    "    df_trades['equity_curve'] = df_trades['cumulative_pnl'] + initial_capital\n",
    "    max_drawdown = (df_trades['equity_curve'].cummax() - df_trades['equity_curve']).max()\n",
    "    \n",
    "    duration_days = (df['timestamp'].max() - df['timestamp'].min()).days + 1\n",
    "    metrics = {\n",
    "        'total_trades': len(df_trades),\n",
    "        'win_rate': df_trades['wins'].mean(),\n",
    "        'avg_pnl': df_trades['pnl'].mean(),\n",
    "        'risk_reward_ratio': (\n",
    "            df_trades[df_trades['pnl'] > 0]['pnl'].mean() /\n",
    "            abs(df_trades[df_trades['pnl'] < 0]['pnl'].mean())\n",
    "            if (df_trades['pnl'] < 0).any() else np.nan\n",
    "        ),\n",
    "        'max_drawdown': max_drawdown,\n",
    "        'avg_trade_per_day': len(df_trades) / duration_days\n",
    "    }\n",
    "    \n",
    "    return df_trades, metrics"
   ]
  },
  {
   "cell_type": "code",
   "execution_count": 5,
   "id": "dc3eea3c",
   "metadata": {},
   "outputs": [
    {
     "name": "stdout",
     "output_type": "stream",
     "text": [
      "Collecting openpyxl\n",
      "  Using cached openpyxl-3.1.5-py2.py3-none-any.whl.metadata (2.5 kB)\n",
      "Collecting et-xmlfile (from openpyxl)\n",
      "  Using cached et_xmlfile-2.0.0-py3-none-any.whl.metadata (2.7 kB)\n",
      "Using cached openpyxl-3.1.5-py2.py3-none-any.whl (250 kB)\n",
      "Using cached et_xmlfile-2.0.0-py3-none-any.whl (18 kB)\n",
      "Installing collected packages: et-xmlfile, openpyxl\n",
      "Successfully installed et-xmlfile-2.0.0 openpyxl-3.1.5\n",
      "Note: you may need to restart the kernel to use updated packages.\n"
     ]
    },
    {
     "name": "stderr",
     "output_type": "stream",
     "text": [
      "\n",
      "[notice] A new release of pip is available: 25.0.1 -> 25.1.1\n",
      "[notice] To update, run: python.exe -m pip install --upgrade pip\n"
     ]
    }
   ],
   "source": [
    "pip install openpyxl"
   ]
  },
  {
   "cell_type": "code",
   "execution_count": 6,
   "id": "275cb08e",
   "metadata": {},
   "outputs": [
    {
     "name": "stdout",
     "output_type": "stream",
     "text": [
      "\n",
      "Testing TP: 0.075, SL: 0.03\n",
      "Saved trades and metrics to strategy_backtest_results_NIFTY_NIFTY_50_SL0.03_TP0.075.xlsx\n",
      "\n",
      "Testing TP: 0.06, SL: 0.03\n",
      "Saved trades and metrics to strategy_backtest_results_NIFTY_NIFTY_50_SL0.03_TP0.06.xlsx\n",
      "\n",
      "Testing TP: 0.045, SL: 0.03\n",
      "Saved trades and metrics to strategy_backtest_results_NIFTY_NIFTY_50_SL0.03_TP0.045.xlsx\n",
      "\n",
      "Testing TP: 0.03, SL: 0.03\n",
      "Saved trades and metrics to strategy_backtest_results_NIFTY_NIFTY_50_SL0.03_TP0.03.xlsx\n",
      "\n",
      "Testing TP: 0.075, SL: 0.04\n",
      "Saved trades and metrics to strategy_backtest_results_NIFTY_NIFTY_50_SL0.04_TP0.075.xlsx\n",
      "\n",
      "Testing TP: 0.075, SL: 0.05\n",
      "Saved trades and metrics to strategy_backtest_results_NIFTY_NIFTY_50_SL0.05_TP0.075.xlsx\n"
     ]
    }
   ],
   "source": [
    "if __name__ == \"__main__\":\n",
    "\n",
    "    Symbol = \"NIFTY\"\n",
    "\n",
    "    market = \"NIFTY_50\"\n",
    "\n",
    "    df = pd.read_csv(\"NIFTY_2008_2020.csv\")\n",
    "\n",
    "    # Make column names lowercase\n",
    "    df.columns = df.columns.str.lower()\n",
    "    \n",
    "    # Select required columns\n",
    "    df = df[[\"date\", \"time\", \"open\", \"high\", \"low\", \"close\"]]\n",
    "\n",
    "    # Combine Date + Time and convert to datetime\n",
    "    df[\"timestamp\"] = pd.to_datetime(df[\"date\"].astype(str) + \" \" + df[\"time\"])\n",
    "\n",
    "    # Drop old Date and Time columns if not needed\n",
    "    df = df.drop(columns=[\"date\", \"time\"])\n",
    "\n",
    "    # Reorder columns\n",
    "    df = df[[\"timestamp\", \"open\", \"high\", \"low\", \"close\"]]\n",
    "\n",
    "    tp_sl_variants = [(0.075, 0.03), (0.06, 0.03), (0.045, 0.03), (0.03, 0.03), (0.075, 0.04), (0.075, 0.05)]\n",
    "\n",
    "    for tp, sl in tp_sl_variants:\n",
    "        print(f\"\\nTesting TP: {tp}, SL: {sl}\")\n",
    "        df2, metrics = strategy_implementation(df, tp=tp, sl=sl)\n",
    "\n",
    "        # Convert metrics dict to a DataFrame for easy export\n",
    "        metrics_df = pd.DataFrame(list(metrics.items()), columns=['Metric', 'Value'])\n",
    "\n",
    "        # Save both to one Excel file with two sheets\n",
    "        output_file = f'strategy_backtest_results_{Symbol}_{market}_SL{sl}_TP{tp}.xlsx'\n",
    "\n",
    "        with pd.ExcelWriter(output_file) as writer:\n",
    "            df2.to_excel(writer, sheet_name='Trades', index=False)\n",
    "            metrics_df.to_excel(writer, sheet_name='Metrics', index=False)\n",
    "\n",
    "            print(f\"Saved trades and metrics to {output_file}\")\n",
    "\n"
   ]
  },
  {
   "cell_type": "code",
   "execution_count": null,
   "id": "e1283df9",
   "metadata": {},
   "outputs": [],
   "source": [
    "# # Convert metrics dict to a DataFrame for easy export\n",
    "# metrics_df = pd.DataFrame(list(metrics.items()), columns=['Metric', 'Value'])\n",
    "\n",
    "# # Save both to one Excel file with two sheets\n",
    "# output_file = f'strategy_backtest_results_{Symbol}_{market}.xlsx'\n",
    "# with pd.ExcelWriter(output_file) as writer:\n",
    "#     df2.to_excel(writer, sheet_name='Trades', index=False)\n",
    "#     metrics_df.to_excel(writer, sheet_name='Metrics', index=False)\n",
    "\n",
    "# print(f\"Saved trades and metrics to {output_file}\")"
   ]
  }
 ],
 "metadata": {
  "kernelspec": {
   "display_name": "venv",
   "language": "python",
   "name": "python3"
  },
  "language_info": {
   "codemirror_mode": {
    "name": "ipython",
    "version": 3
   },
   "file_extension": ".py",
   "mimetype": "text/x-python",
   "name": "python",
   "nbconvert_exporter": "python",
   "pygments_lexer": "ipython3",
   "version": "3.12.10"
  }
 },
 "nbformat": 4,
 "nbformat_minor": 5
}
